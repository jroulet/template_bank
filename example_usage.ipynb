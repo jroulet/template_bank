{
 "cells": [
  {
   "cell_type": "markdown",
   "metadata": {},
   "source": [
    "# Template bank\n",
    "**Authors:** Javier Roulet, Liang Dai, Tejaswi Venumadhav, Barak Zackay, Matias Zaldarriaga\n",
    "\n",
    "This script illustrates how to load the template bank presented in our paper."
   ]
  },
  {
   "cell_type": "code",
   "execution_count": null,
   "metadata": {},
   "outputs": [],
   "source": [
    "import numpy as np\n",
    "import os\n",
    "import matplotlib.pyplot as plt"
   ]
  },
  {
   "cell_type": "code",
   "execution_count": null,
   "metadata": {},
   "outputs": [],
   "source": [
    "%matplotlib notebook"
   ]
  },
  {
   "cell_type": "markdown",
   "metadata": {},
   "source": [
    "Choose some bank and subbank id, load:"
   ]
  },
  {
   "cell_type": "code",
   "execution_count": null,
   "metadata": {},
   "outputs": [],
   "source": [
    "bank_id = 'BBH_2'\n",
    "i_subbank = 0"
   ]
  },
  {
   "cell_type": "code",
   "execution_count": null,
   "metadata": {},
   "outputs": [],
   "source": [
    "freqs = np.load(os.path.join(f'{bank_id}/subbank_{i_subbank}/fs_basis.npy'))\n",
    "weights = np.load(os.path.join(f'{bank_id}/subbank_{i_subbank}/inner_product_weights.npy'))\n",
    "weighted_basis = np.load(os.path.join(f'{bank_id}/subbank_{i_subbank}/svd_phase_basis.npy'))\n",
    "asds = np.load(os.path.join(f'{bank_id}/subbank_{i_subbank}/asds.npy'))\n",
    "avg_amp, avg_phase = np.load(os.path.join(f'{bank_id}/subbank_{i_subbank}/average_waveform_properties.npy')).T\n",
    "components = np.load(os.path.join(f'{bank_id}/subbank_{i_subbank}/components.npy'))\n",
    "\n",
    "basis = weighted_basis / weights  # psi_alpha(f)"
   ]
  },
  {
   "cell_type": "markdown",
   "metadata": {},
   "source": [
    "The `weights` are defined by $w_k = A(f_k) \\sqrt{\\Delta f_k / S_n(f_k)}$.\n",
    "\n",
    "`weighted_basis` is $V_{\\alpha k} = w_k \\psi_\\alpha(f_k)$ in the paper. It is orthonormal:"
   ]
  },
  {
   "cell_type": "code",
   "execution_count": null,
   "metadata": {},
   "outputs": [],
   "source": [
    "np.round(np.dot(weighted_basis, weighted_basis.T), decimals=10)"
   ]
  },
  {
   "cell_type": "markdown",
   "metadata": {},
   "source": [
    "The first few basis functions $\\psi_\\alpha(f)$:"
   ]
  },
  {
   "cell_type": "code",
   "execution_count": null,
   "metadata": {},
   "outputs": [],
   "source": [
    "plt.figure()\n",
    "for alpha in range(4):\n",
    "    plt.plot(freqs, basis[alpha])\n",
    "plt.xlabel('$f$ (Hz)')\n",
    "plt.ylabel(r'$\\psi_\\alpha$');"
   ]
  },
  {
   "cell_type": "markdown",
   "metadata": {},
   "source": [
    "The phase components of the templates are placed on a grid:"
   ]
  },
  {
   "cell_type": "code",
   "execution_count": null,
   "metadata": {
    "scrolled": false
   },
   "outputs": [],
   "source": [
    "i, j = 0, 1\n",
    "plt.figure()\n",
    "plt.scatter(components[:,i], components[:,j], s=.5)\n",
    "plt.gca().set_aspect('equal')\n",
    "plt.xlabel(f'Axis {i}')\n",
    "plt.ylabel(f'Axis {j}');"
   ]
  },
  {
   "cell_type": "markdown",
   "metadata": {},
   "source": [
    "Individual templates in the frequency domain can be generated from the components as \n",
    "$$h(f; {\\bf c}) = \\overline A(f) \\exp \\left[i\\left(\\overline \\psi(f) + \\sum_\\alpha c_\\alpha \\psi_\\alpha(f) \\right)\\right]$$"
   ]
  },
  {
   "cell_type": "code",
   "execution_count": null,
   "metadata": {},
   "outputs": [],
   "source": [
    "def gen_waveforms_fd_from_components(\n",
    "        avg_amp, avg_phase, components, basis,\n",
    "        fs_in=None, fs_out=None):\n",
    "    \"\"\"\n",
    "    Generates waveforms from given coefficients\n",
    "    Note: At fs_out <= min(fs_in) or >= max(fs_in), the output\n",
    "    amplitudes are zero\n",
    "    :param avg_amp: len(n_freqs) array of reference amplitude A(f)\n",
    "                    used for building the bank.\n",
    "    :param avg_phase: len(n_freqs array of average phase profile\n",
    "                      used for building the bank.\n",
    "    :param components: n_wf x n_(basis elements) array with list of\n",
    "                       coefficients (can be vector for n_wf = 1)\n",
    "    :param basis: n_basis x n_freqs array of basis phase functions.\n",
    "    :param fs_in: Array of input frequencies.\n",
    "    :param fs_out: Array of output frequencies. None indicates\n",
    "                   fs_out = fs_in\n",
    "    :return: n_wf x len(fs_out) complex array with waveforms at fs_out\n",
    "    \"\"\"\n",
    "    phase = avg_phase + (components[..., np.newaxis] * basis).sum(axis=-2)\n",
    "    if fs_out is not None:  # Upsample\n",
    "        if len(phase.shape) == 1:\n",
    "            phase = np.interp(fs_out, fs_in, phase)\n",
    "        else:\n",
    "            phase = np.array([np.interp(fs_out, fs_in, x) for x in phase])\n",
    "        avg_amp = np.interp(fs_out, fs_in, avg_amp, left=0, right=0)\n",
    "    waveform = avg_amp * np.exp(1j * phase)\n",
    "    return waveform"
   ]
  },
  {
   "cell_type": "code",
   "execution_count": null,
   "metadata": {},
   "outputs": [],
   "source": [
    "i_template = 0  # Choose one template in the bank\n",
    "f_highres = np.linspace(0, 512, 2**20+1)\n",
    "h = gen_waveforms_fd_from_components(avg_amp, avg_phase, components[i_template],\n",
    "                                     basis, fs_in=freqs, fs_out=f_highres)"
   ]
  },
  {
   "cell_type": "code",
   "execution_count": null,
   "metadata": {
    "scrolled": false
   },
   "outputs": [],
   "source": [
    "plt.figure()\n",
    "plt.plot(f_highres, h.real)\n",
    "plt.xlabel('$f$ (Hz)')\n",
    "plt.ylabel(r'Re $\\tilde h$');"
   ]
  }
 ],
 "metadata": {
  "kernelspec": {
   "display_name": "Python 3",
   "language": "python",
   "name": "python3"
  },
  "language_info": {
   "codemirror_mode": {
    "name": "ipython",
    "version": 3
   },
   "file_extension": ".py",
   "mimetype": "text/x-python",
   "name": "python",
   "nbconvert_exporter": "python",
   "pygments_lexer": "ipython3",
   "version": "3.6.5"
  }
 },
 "nbformat": 4,
 "nbformat_minor": 2
}
